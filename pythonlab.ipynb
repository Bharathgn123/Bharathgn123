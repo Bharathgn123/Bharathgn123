{
  "nbformat": 4,
  "nbformat_minor": 0,
  "metadata": {
    "colab": {
      "provenance": [],
      "authorship_tag": "ABX9TyOMhVVktoUT8DQnHfzHPZEu",
      "include_colab_link": true
    },
    "kernelspec": {
      "name": "python3",
      "display_name": "Python 3"
    },
    "language_info": {
      "name": "python"
    }
  },
  "cells": [
    {
      "cell_type": "markdown",
      "metadata": {
        "id": "view-in-github",
        "colab_type": "text"
      },
      "source": [
        "<a href=\"https://colab.research.google.com/github/Bharathgn123/Bharathgn123/blob/main/pythonlab.ipynb\" target=\"_parent\"><img src=\"https://colab.research.google.com/assets/colab-badge.svg\" alt=\"Open In Colab\"/></a>"
      ]
    },
    {
      "cell_type": "code",
      "execution_count": 3,
      "metadata": {
        "colab": {
          "base_uri": "https://localhost:8080/"
        },
        "id": "aeLG36wwd-Nh",
        "outputId": "6b1baa9f-7ac7-455c-8761-d629a0760cb0"
      },
      "outputs": [
        {
          "output_type": "stream",
          "name": "stdout",
          "text": [
            "Enter the name of the student:Bharath\n",
            "Enter the USN of the student:\n",
            "Enter marks in subject 1:89\n",
            "Enter marks in subject 2:88\n",
            "Enter marks in subject 3:95\n",
            "student details: =======\n",
            "Name: Bharath\n",
            "USN: \n",
            "Marks 1: 89\n",
            "Marks 2: 88\n",
            "Marks 3: 95\n",
            "Total: 272\n",
            "percent 90.66666666666667\n"
          ]
        }
      ],
      "source": [
        "Name=input(\"Enter the name of the student:\")\n",
        "USN=input(\"Enter the USN of the student:\")\n",
        "Marks1=int(input(\"Enter marks in subject 1:\"))\n",
        "Marks2=int(input(\"Enter marks in subject 2:\"))\n",
        "Marks3=int(input(\"Enter marks in subject 3:\"))\n",
        "print(\"student details: =======\")\n",
        "print(\"Name:\",Name)\n",
        "print(\"USN:\",USN)\n",
        "print(\"Marks 1:\",Marks1)\n",
        "print(\"Marks 2:\",Marks2)\n",
        "print(\"Marks 3:\",Marks3)\n",
        "print(\"Total:\",Marks1+Marks2+Marks3)\n",
        "print(\"percent\",((Marks1+Marks2+Marks3)/3))\n"
      ]
    },
    {
      "cell_type": "code",
      "source": [],
      "metadata": {
        "id": "_XkAOjhWfck0"
      },
      "execution_count": null,
      "outputs": []
    }
  ]
}