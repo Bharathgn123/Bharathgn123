{
  "nbformat": 4,
  "nbformat_minor": 0,
  "metadata": {
    "colab": {
      "provenance": [],
      "authorship_tag": "ABX9TyO/Kjb3RtrEz45hNxzDzNLY",
      "include_colab_link": true
    },
    "kernelspec": {
      "name": "python3",
      "display_name": "Python 3"
    },
    "language_info": {
      "name": "python"
    }
  },
  "cells": [
    {
      "cell_type": "markdown",
      "metadata": {
        "id": "view-in-github",
        "colab_type": "text"
      },
      "source": [
        "<a href=\"https://colab.research.google.com/github/Bharathgn123/Bharathgn123/blob/main/Program_2_Finding_angle_between_two_polar_curves_%26_radius_of_curvature_in_cartison%2C_parametric_and_polar_form_ipyn.ipynb\" target=\"_parent\"><img src=\"https://colab.research.google.com/assets/colab-badge.svg\" alt=\"Open In Colab\"/></a>"
      ]
    },
    {
      "cell_type": "markdown",
      "source": [
        "2a)Finding angle between two polar curves"
      ],
      "metadata": {
        "id": "8QM584M95RtU"
      }
    },
    {
      "cell_type": "markdown",
      "source": [
        "1)r=a(theta) &r=a/theta"
      ],
      "metadata": {
        "id": "_o7TbIsv5k4T"
      }
    },
    {
      "cell_type": "code",
      "source": [
        "from sympy import*\n",
        "r,theta,a=symbols('r,theta,a')\n",
        "r1=a*theta;                                     #r1=a0\n",
        "r2=a/theta;                                     #r2=a/0\n",
        "dr1=diff(r1,theta)                              #dr1/d0\n",
        "dr2=diff(r2,theta)                              #dr2/d0\n",
        "t1=dr1/r1                                       #(1/r1)(dr1/d0)=cot(pai1)\n",
        "t2=dr2/r2                                       #(1/r2)(dr2/d0)=cot(pai2)\n",
        "q=solve(r1-r2,theta)                            #r1=r2,solve for 0\n",
        "print('q=',(q))                                 #show 0 value\n",
        "w1=t1.subs({theta:(q[0])})                      #subst 0 in cot(pai1)\n",
        "print('w1=',(w1))                               #show cot(pai1)\n",
        "w2=t2.subs({theta:(q[0])})                      #subs 0 in cot(pai1)\n",
        "print('w2=',(w2))                               #show cot(pai2)\n",
        "y1=acot(w1)                                     #pai1=(cot)^(-1)()\n",
        "print('y1=',(y1))                               #show cot(pai1)\n",
        "y2=acot(w2)                                     #pai2=(cot)^(-1)()\n",
        "print('y2=',(y2))                               #show (pai2)\n",
        "w=abs(y1-y2)                                    #|pai1-pai2|\n",
        "print('w=',(w))                                 #show|pai1-pai2|\n",
        "print(\"angle b/n two polar curves is\", w)"
      ],
      "metadata": {
        "colab": {
          "base_uri": "https://localhost:8080/"
        },
        "id": "SYi6mY-75qob",
        "outputId": "a14b9ea9-8238-4383-de16-3c42f6eaef87"
      },
      "execution_count": 1,
      "outputs": [
        {
          "output_type": "stream",
          "name": "stdout",
          "text": [
            "q= [-1, 1]\n",
            "w1= -1\n",
            "w2= 1\n",
            "y1= -pi/4\n",
            "y2= pi/4\n",
            "w= pi/2\n",
            "angle b/n two polar curves is pi/2\n"
          ]
        }
      ]
    }
  ]
}