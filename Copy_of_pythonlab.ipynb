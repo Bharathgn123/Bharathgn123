{
  "nbformat": 4,
  "nbformat_minor": 0,
  "metadata": {
    "colab": {
      "provenance": [],
      "authorship_tag": "ABX9TyPAEX4tdp7uVAa5eGMbqaUQ",
      "include_colab_link": true
    },
    "kernelspec": {
      "name": "python3",
      "display_name": "Python 3"
    },
    "language_info": {
      "name": "python"
    }
  },
  "cells": [
    {
      "cell_type": "markdown",
      "metadata": {
        "id": "view-in-github",
        "colab_type": "text"
      },
      "source": [
        "<a href=\"https://colab.research.google.com/github/Bharathgn123/Bharathgn123/blob/main/Copy_of_pythonlab.ipynb\" target=\"_parent\"><img src=\"https://colab.research.google.com/assets/colab-badge.svg\" alt=\"Open In Colab\"/></a>"
      ]
    },
    {
      "cell_type": "code",
      "execution_count": null,
      "metadata": {
        "colab": {
          "base_uri": "https://localhost:8080/"
        },
        "id": "aeLG36wwd-Nh",
        "outputId": "6b1baa9f-7ac7-455c-8761-d629a0760cb0"
      },
      "outputs": [
        {
          "output_type": "stream",
          "name": "stdout",
          "text": [
            "Enter the name of the student:Bharath\n",
            "Enter the USN of the student:\n",
            "Enter marks in subject 1:89\n",
            "Enter marks in subject 2:88\n",
            "Enter marks in subject 3:95\n",
            "student details: =======\n",
            "Name: Bharath\n",
            "USN: \n",
            "Marks 1: 89\n",
            "Marks 2: 88\n",
            "Marks 3: 95\n",
            "Total: 272\n",
            "percent 90.66666666666667\n"
          ]
        }
      ],
      "source": [
        "Name=input(\"Enter the name of the student:\")\n",
        "USN=input(\"Enter the USN of the student:\")\n",
        "Marks1=int(input(\"Enter marks in subject 1:\"))\n",
        "Marks2=int(input(\"Enter marks in subject 2:\"))\n",
        "Marks3=int(input(\"Enter marks in subject 3:\"))\n",
        "print(\"student details: =======\")\n",
        "print(\"Name:\",Name)\n",
        "print(\"USN:\",USN)\n",
        "print(\"Marks 1:\",Marks1)\n",
        "print(\"Marks 2:\",Marks2)\n",
        "print(\"Marks 3:\",Marks3)\n",
        "print(\"Total:\",Marks1+Marks2+Marks3)\n",
        "print(\"percent\",((Marks1+Marks2+Marks3)/3))\n"
      ]
    },
    {
      "cell_type": "markdown",
      "source": [
        "b.Develop a program to read the name and year of birth of a person.Display whether the person is a senior citizen or not."
      ],
      "metadata": {
        "id": "mEzUEKjvTb4_"
      }
    },
    {
      "cell_type": "code",
      "source": [
        "                                                          Age.py"
      ],
      "metadata": {
        "id": "ujNNhScQWqQf"
      },
      "execution_count": null,
      "outputs": []
    },
    {
      "cell_type": "code",
      "source": [
        "from datetime import date\n",
        "Name = input(\"enter the name of the person:\")\n",
        "DOB = int(input(\"enter his year of birth:\"))\n",
        "\n",
        "currentyear = date.today().year\n",
        "Age = currentyear - DOB\n",
        "\n",
        "if (Age > 60):\n",
        " print(Name,\"is a seniorcitizen.\")\n",
        "else:\n",
        "  print(Name,\"is not a seniorcitizen.\")"
      ],
      "metadata": {
        "colab": {
          "base_uri": "https://localhost:8080/"
        },
        "id": "I0m7OiUkT_54",
        "outputId": "cfc0ba3a-b4c6-4f60-bb27-e7b0cf514deb"
      },
      "execution_count": null,
      "outputs": [
        {
          "output_type": "stream",
          "name": "stdout",
          "text": [
            "enter the name of the person:sidaya\n",
            "enter his year of birth:1947\n",
            "sidaya is a seniorcitizen.\n"
          ]
        }
      ]
    },
    {
      "cell_type": "code",
      "source": [
        "n=1\n",
        "if n<=5:\n",
        "  print('n=',n)\n",
        "  n=n+1"
      ],
      "metadata": {
        "colab": {
          "base_uri": "https://localhost:8080/"
        },
        "id": "Y0zkdfz8ZmSb",
        "outputId": "7136c868-15b8-4d77-ce82-ced0c7baab9f"
      },
      "execution_count": null,
      "outputs": [
        {
          "output_type": "stream",
          "name": "stdout",
          "text": [
            "n= 1\n"
          ]
        }
      ]
    },
    {
      "cell_type": "code",
      "source": [
        "n=1\n",
        "while n<=5:\n",
        "  print('n=',n)\n",
        "  n=n+1"
      ],
      "metadata": {
        "colab": {
          "base_uri": "https://localhost:8080/"
        },
        "id": "G8GHJq3RZ2Gi",
        "outputId": "2c72b22a-0e5d-45d3-c723-be1ac69a5aa0"
      },
      "execution_count": null,
      "outputs": [
        {
          "output_type": "stream",
          "name": "stdout",
          "text": [
            "n= 1\n",
            "n= 2\n",
            "n= 3\n",
            "n= 4\n",
            "n= 5\n"
          ]
        }
      ]
    },
    {
      "cell_type": "code",
      "source": [
        "n=1\n",
        "while n<=10:\n",
        "  if n==5:\n",
        "    break\n",
        "  print('n=',n)\n",
        "  n=n+1"
      ],
      "metadata": {
        "colab": {
          "base_uri": "https://localhost:8080/"
        },
        "id": "F-YwEh3GbmQ3",
        "outputId": "acbe4ff1-a5d2-4c62-a3ac-0772aa380f1b"
      },
      "execution_count": null,
      "outputs": [
        {
          "output_type": "stream",
          "name": "stdout",
          "text": [
            "n= 1\n",
            "n= 2\n",
            "n= 3\n",
            "n= 4\n"
          ]
        }
      ]
    },
    {
      "cell_type": "code",
      "source": [
        "n=1\n",
        "while n<=10:\n",
        "  if n==9:\n",
        "    n=n+1\n",
        "    continue\n",
        "  print('n=',n)\n",
        "  n=n+1"
      ],
      "metadata": {
        "colab": {
          "base_uri": "https://localhost:8080/"
        },
        "id": "BYgtw2_weKxa",
        "outputId": "3add3f13-0235-4d82-807a-1c2bd9171751"
      },
      "execution_count": null,
      "outputs": [
        {
          "output_type": "stream",
          "name": "stdout",
          "text": [
            "n= 1\n",
            "n= 2\n",
            "n= 3\n",
            "n= 4\n",
            "n= 5\n",
            "n= 6\n",
            "n= 7\n",
            "n= 8\n",
            "n= 10\n"
          ]
        }
      ]
    },
    {
      "cell_type": "markdown",
      "source": [
        "2. a.Develop a program to generate Fibonacci sequence of length(N).Read N from the console."
      ],
      "metadata": {
        "id": "FFS18azSiN3o"
      }
    },
    {
      "cell_type": "code",
      "source": [
        "                                                 Fibonacci.py"
      ],
      "metadata": {
        "id": "T_FEVQ2ei7IA"
      },
      "execution_count": null,
      "outputs": []
    },
    {
      "cell_type": "code",
      "source": [
        "n=int(input(\"enter the fibonacci sequence length to be generated:\"))\n",
        "\n",
        "firstnumber=0\n",
        "secondnumber=1\n",
        "print(\"the fibonaci series is :\")\n",
        "print(firstnumber)\n",
        "print(secondnumber)\n",
        "for i in range(2,n):\n",
        "  newnumber=firstnumber+secondnumber\n",
        "  print(newnumber)\n",
        "  firstnumber=secondnumber\n",
        "  secondnumber=newnumber"
      ],
      "metadata": {
        "colab": {
          "base_uri": "https://localhost:8080/"
        },
        "id": "iH620OkVi-7y",
        "outputId": "dc1012fe-3b70-477e-c934-c45b2c0f096b"
      },
      "execution_count": null,
      "outputs": [
        {
          "output_type": "stream",
          "name": "stdout",
          "text": [
            "enter the fibonacci sequence length to be generated:12\n",
            "the fibonaci series is :\n",
            "0\n",
            "1\n",
            "1\n",
            "2\n",
            "3\n",
            "5\n",
            "8\n",
            "13\n",
            "21\n",
            "34\n",
            "55\n",
            "89\n"
          ]
        }
      ]
    },
    {
      "cell_type": "markdown",
      "source": [
        "3.Read N number from the console and creat a list.develop a program to print mean,variance and standart deviation with suitable messages"
      ],
      "metadata": {
        "id": "WPNR2_CrlOM9"
      }
    },
    {
      "cell_type": "code",
      "source": [
        "import math\n",
        "L =[]\n",
        "n=int(input(\"enter the number of elements:\"))\n",
        "\n",
        "for i in range(n):\n",
        " val=int(input(\"enter the element\"))\n",
        " L.append(val)\n",
        "\n",
        "print('the length of list1 is',len(L))\n",
        "print('list contents',L)\n",
        "mean =sum(L)/n\n",
        "total=0\n",
        "for elem in L:\n",
        "  total += (elem-mean)**2\n",
        "  variance=total/n\n",
        "  std=math.sqrt(variance)\n",
        "  print(\"mean=\",mean)\n",
        "  print(\"variance=\",variance)\n",
        "  print(\"standard deviation=\",std)"
      ],
      "metadata": {
        "colab": {
          "base_uri": "https://localhost:8080/"
        },
        "id": "1jxH1vwRnoEp",
        "outputId": "35772247-b101-47cc-aa0f-0fca9d3c979f"
      },
      "execution_count": 11,
      "outputs": [
        {
          "output_type": "stream",
          "name": "stdout",
          "text": [
            "enter the number of elements:2\n",
            "enter the element1 \n",
            "enter the element4\n",
            "the length of list1 is 2\n",
            "list contents [1, 4]\n",
            "mean= 2.5\n",
            "variance= 1.125\n",
            "standard deviation= 1.0606601717798212\n",
            "mean= 2.5\n",
            "variance= 2.25\n",
            "standard deviation= 1.5\n"
          ]
        }
      ]
    },
    {
      "cell_type": "code",
      "source": [
        "import random\n",
        "messages =['it is certain',\n",
        "          'it is decidedly so',\n",
        "           'yes definitely',\n",
        "           'reply hazy try again',\n",
        "           'ask again later',\n",
        "             'concentrate and ask again',\n",
        "           'my reply is no',\n",
        "           'outlook not so good',\n",
        "           'very doubtful']\n",
        "print(messages[random.randint(0,len(messages))])"
      ],
      "metadata": {
        "colab": {
          "base_uri": "https://localhost:8080/"
        },
        "id": "Xb86ewPsvVmS",
        "outputId": "1f38a429-9610-4361-e9de-2da06addf325"
      },
      "execution_count": 16,
      "outputs": [
        {
          "output_type": "stream",
          "name": "stdout",
          "text": [
            "yes definitely\n"
          ]
        }
      ]
    }
  ]
}