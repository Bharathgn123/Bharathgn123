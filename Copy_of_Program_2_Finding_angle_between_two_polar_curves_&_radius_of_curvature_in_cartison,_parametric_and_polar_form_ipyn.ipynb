{
  "nbformat": 4,
  "nbformat_minor": 0,
  "metadata": {
    "colab": {
      "provenance": [],
      "authorship_tag": "ABX9TyOaa7A/tXydEo6bVnWL3FHi",
      "include_colab_link": true
    },
    "kernelspec": {
      "name": "python3",
      "display_name": "Python 3"
    },
    "language_info": {
      "name": "python"
    }
  },
  "cells": [
    {
      "cell_type": "markdown",
      "metadata": {
        "id": "view-in-github",
        "colab_type": "text"
      },
      "source": [
        "<a href=\"https://colab.research.google.com/github/Bharathgn123/Bharathgn123/blob/main/Copy_of_Program_2_Finding_angle_between_two_polar_curves_%26_radius_of_curvature_in_cartison%2C_parametric_and_polar_form_ipyn.ipynb\" target=\"_parent\"><img src=\"https://colab.research.google.com/assets/colab-badge.svg\" alt=\"Open In Colab\"/></a>"
      ]
    },
    {
      "cell_type": "markdown",
      "source": [
        "2a)Finding angle between two polar curves"
      ],
      "metadata": {
        "id": "8QM584M95RtU"
      }
    },
    {
      "cell_type": "markdown",
      "source": [
        "1)r=a(theta) &r=a/theta"
      ],
      "metadata": {
        "id": "_o7TbIsv5k4T"
      }
    },
    {
      "cell_type": "code",
      "source": [
        "from sympy import*\n",
        "r,theta,a=symbols('r,theta,a')\n",
        "r1=a*theta;                                     #r1=a0\n",
        "r2=a/theta;                                     #r2=a/0\n",
        "dr1=diff(r1,theta)                              #dr1/d0\n",
        "dr2=diff(r2,theta)                              #dr2/d0\n",
        "t1=dr1/r1                                       #(1/r1)(dr1/d0)=cot(pai1)\n",
        "t2=dr2/r2                                       #(1/r2)(dr2/d0)=cot(pai2)\n",
        "q=solve(r1-r2,theta)                            #r1=r2,solve for 0\n",
        "print('q=',(q))                                 #show 0 value\n",
        "w1=t1.subs({theta:(q[0])})                      #subst 0 in cot(pai1)\n",
        "print('w1=',(w1))                               #show cot(pai1)\n",
        "w2=t2.subs({theta:(q[0])})                      #subs 0 in cot(pai1)\n",
        "print('w2=',(w2))                               #show cot(pai2)\n",
        "y1=acot(w1)                                     #pai1=(cot)^(-1)()\n",
        "print('y1=',(y1))                               #show cot(pai1)\n",
        "y2=acot(w2)                                     #pai2=(cot)^(-1)()\n",
        "print('y2=',(y2))                               #show (pai2)\n",
        "w=abs(y1-y2)                                    #|pai1-pai2|\n",
        "print('w=',(w))                                 #show|pai1-pai2|\n",
        "print(\"angle b/n two polar curves is\", w)"
      ],
      "metadata": {
        "colab": {
          "base_uri": "https://localhost:8080/"
        },
        "id": "SYi6mY-75qob",
        "outputId": "a14b9ea9-8238-4383-de16-3c42f6eaef87"
      },
      "execution_count": null,
      "outputs": [
        {
          "output_type": "stream",
          "name": "stdout",
          "text": [
            "q= [-1, 1]\n",
            "w1= -1\n",
            "w2= 1\n",
            "y1= -pi/4\n",
            "y2= pi/4\n",
            "w= pi/2\n",
            "angle b/n two polar curves is pi/2\n"
          ]
        }
      ]
    },
    {
      "cell_type": "markdown",
      "source": [
        "r=a(1+sin(theta))&r=a(1-sin(theta))"
      ],
      "metadata": {
        "id": "_C_qDgyn7cEK"
      }
    },
    {
      "cell_type": "code",
      "source": [
        "from sympy import*\n",
        "r,theta,a=symbols('r,theta,a')\n",
        "r1=a*(1+sin(theta)) ;                                   #r1=a0\n",
        "r2=a/(1-sin(theta));                                    #r2=a/0\n",
        "dr1=diff(r1,theta)                              #dr1/d0\n",
        "dr2=diff(r2,theta)                              #dr2/d0\n",
        "t1=dr1/r1                                       #(1/r1)(dr1/d0)=cot(pai1)\n",
        "t2=dr2/r2                                       #(1/r2)(dr2/d0)=cot(pai2)\n",
        "q=solve(r1-r2,theta)                            #r1=r2,solve for 0\n",
        "print('q=',(q))                                 #show 0 value\n",
        "w1=t1.subs({theta:(q[0])})                      #subst 0 in cot(pai1)\n",
        "print('w1=',(w1))                               #show cot(pai1)\n",
        "w2=t2.subs({theta:(q[0])})                      #subs 0 in cot(pai1)\n",
        "print('w2=',(w2))                               #show cot(pai2)\n",
        "y1=acot(w1)                                     #pai1=(cot)^(-1)()\n",
        "print('y1=',(y1))                               #show cot(pai1)\n",
        "y2=acot(w2)                                     #pai2=(cot)^(-1)()\n",
        "print('y2=',(y2))                               #show (pai2)\n",
        "w=abs(y1-y2)                                    #|pai1-pai2|\n",
        "print('w=',(w))                                 #show|pai1-pai2|\n",
        "print(\"angle b/n two polar curves is\", w)"
      ],
      "metadata": {
        "colab": {
          "base_uri": "https://localhost:8080/"
        },
        "outputId": "23a6c338-c7b2-4df1-ca61-18eabe3fce51",
        "id": "YUzraprN7Znf"
      },
      "execution_count": null,
      "outputs": [
        {
          "output_type": "stream",
          "name": "stdout",
          "text": [
            "q= [0, pi]\n",
            "w1= 1\n",
            "w2= 1\n",
            "y1= pi/4\n",
            "y2= pi/4\n",
            "w= 0\n",
            "angle b/n two polar curves is 0\n"
          ]
        }
      ]
    },
    {
      "cell_type": "markdown",
      "source": [
        "3)r=6costheta &r=2(1+costheta)"
      ],
      "metadata": {
        "id": "1nDt3YkJ7daT"
      }
    },
    {
      "cell_type": "code",
      "source": [
        "from sympy import*\n",
        "r,theta,a=symbols('r,theta,a')\n",
        "r1=6*cos(theta);                                   #r1=a0\n",
        "r2=2*(1+cos(theta));                                    #r2=a/0\n",
        "dr1=diff(r1,theta)                              #dr1/d0\n",
        "dr2=diff(r2,theta)                              #dr2/d0\n",
        "t1=dr1/r1                                       #(1/r1)(dr1/d0)=cot(pai1)\n",
        "t2=dr2/r2                                       #(1/r2)(dr2/d0)=cot(pai2)\n",
        "q=solve(r1-r2,theta)                            #r1=r2,solve for 0\n",
        "print('q=',(q))                                 #show 0 value\n",
        "w1=t1.subs({theta:(q[0])})                      #subst 0 in cot(pai1)\n",
        "print('w1=',(w1))                               #show cot(pai1)\n",
        "w2=t2.subs({theta:(q[0])})                      #subs 0 in cot(pai1)\n",
        "print('w2=',(w2))                               #show cot(pai2)\n",
        "y1=acot(w1)                                     #pai1=(cot)^(-1)()\n",
        "print('y1=',(y1))                               #show cot(pai1)\n",
        "y2=acot(w2)                                     #pai2=(cot)^(-1)()\n",
        "print('y2=',(y2))                               #show (pai2)\n",
        "w=abs(y1-y2)                                    #|pai1-pai2|\n",
        "print('w=',(w))                                 #show|pai1-pai2|\n",
        "print(\"angle b/n two polar curves is\", w)"
      ],
      "metadata": {
        "colab": {
          "base_uri": "https://localhost:8080/"
        },
        "outputId": "43b836ff-89bb-4f7b-bcc4-a59bebcea834",
        "id": "zaNNnDgu7Zz7"
      },
      "execution_count": null,
      "outputs": [
        {
          "output_type": "stream",
          "name": "stdout",
          "text": [
            "q= [pi/3, 5*pi/3]\n",
            "w1= -sqrt(3)\n",
            "w2= -sqrt(3)/3\n",
            "y1= -pi/6\n",
            "y2= -pi/3\n",
            "w= pi/6\n",
            "angle b/n two polar curves is pi/6\n"
          ]
        }
      ]
    },
    {
      "cell_type": "markdown",
      "source": [
        "4)r=sintheta+costheta &r=2sintheta"
      ],
      "metadata": {
        "id": "xfPm6P9K7eVJ"
      }
    },
    {
      "cell_type": "code",
      "source": [
        "from sympy import*\n",
        "r,theta,a=symbols('r,theta,a')\n",
        "r1=sin(theta)+cos(theta);                                    #r1=a0\n",
        "r2=2*sin(theta);                                    #r2=a/0\n",
        "dr1=diff(r1,theta)                              #dr1/d0\n",
        "dr2=diff(r2,theta)                              #dr2/d0\n",
        "t1=dr1/r1                                       #(1/r1)(dr1/d0)=cot(pai1)\n",
        "t2=dr2/r2                                       #(1/r2)(dr2/d0)=cot(pai2)\n",
        "q=solve(r1-r2,theta)                            #r1=r2,solve for 0\n",
        "print('q=',(q))                                 #show 0 value\n",
        "w1=t1.subs({theta:(q[0])})                      #subst 0 in cot(pai1)\n",
        "print('w1=',(w1))                               #show cot(pai1)\n",
        "w2=t2.subs({theta:(q[0])})                      #subs 0 in cot(pai1)\n",
        "print('w2=',(w2))                               #show cot(pai2)\n",
        "y1=acot(w1)                                     #pai1=(cot)^(-1)()\n",
        "print('y1=',(y1))                               #show cot(pai1)\n",
        "y2=acot(w2)                                     #pai2=(cot)^(-1)()\n",
        "print('y2=',(y2))                               #show (pai2)\n",
        "w=abs(y1-y2)                                    #|pai1-pai2|\n",
        "print('w=',(w))                                 #show|pai1-pai2|\n",
        "print(\"angle b/n two polar curves is\", w)"
      ],
      "metadata": {
        "colab": {
          "base_uri": "https://localhost:8080/"
        },
        "outputId": "28c73434-717e-428c-9838-21547cb00291",
        "id": "eASJ7uop7Z-7"
      },
      "execution_count": null,
      "outputs": [
        {
          "output_type": "stream",
          "name": "stdout",
          "text": [
            "q= [pi/4]\n",
            "w1= 0\n",
            "w2= 1\n",
            "y1= pi/2\n",
            "y2= pi/4\n",
            "w= pi/4\n",
            "angle b/n two polar curves is pi/4\n"
          ]
        }
      ]
    },
    {
      "cell_type": "markdown",
      "source": [
        "2b) FINDING RADIUS OF CURVATURE IN CARTESIAN, PARAMETRIC AND POLAR FORMS\n",
        "\n",
        "I Cartesian form:1)Find radius of curvature sqrt(x)+sqrt(y)=4 at(4,4)"
      ],
      "metadata": {
        "id": "wWZ3i51w8-ie"
      }
    },
    {
      "cell_type": "code",
      "source": [
        "from sympy import*\n",
        "x,y=symbols('x y')\n",
        "y=(4-sqrt(x))**2;\n",
        "y1=diff(y,x)\n",
        "y2=diff(y1,x)\n",
        "rho=simplify(1+y1**2)**1.5/y2;\n",
        "rho1=rho.subs(x,4);\n",
        "rho2=rho1.subs(y,4);\n",
        "print('y1=',(y1))\n",
        "print('y2=',(y2))\n",
        "print('rho=',(rho))\n",
        "print('Radius of curvature at x=4 and y=4 is %0.3f'%(rho2))"
      ],
      "metadata": {
        "colab": {
          "base_uri": "https://localhost:8080/"
        },
        "id": "fcU6pe1G-oyK",
        "outputId": "a29e0afb-f558-45ba-907f-8ee97eb0c12c"
      },
      "execution_count": null,
      "outputs": [
        {
          "output_type": "stream",
          "name": "stdout",
          "text": [
            "y1= -(4 - sqrt(x))/sqrt(x)\n",
            "y2= 1/(2*x) + (4 - sqrt(x))/(2*x**(3/2))\n",
            "rho= ((x + (sqrt(x) - 4)**2)/x)**1.5/(1/(2*x) + (4 - sqrt(x))/(2*x**(3/2)))\n",
            "Radius of curvature at x=4 and y=4 is 11.314\n"
          ]
        }
      ]
    },
    {
      "cell_type": "markdown",
      "source": [
        "2) Find radius of curvature of y=4sinx-sin2x at x=pi/2"
      ],
      "metadata": {
        "id": "VYJAMT7ZDtSV"
      }
    },
    {
      "cell_type": "code",
      "source": [
        "from sympy import*\n",
        "x,y=symbols('x y')\n",
        "y=4*sin(x)-sin(2*x)\n",
        "dy1=diff(y,x)\n",
        "dy2=diff(dy1,x)\n",
        "rho=simplify(1+dy1**2)**1.5/dy2;\n",
        "rho1=rho.subs(x,(pi/2));\n",
        "print('dy1 is',(dy1))\n",
        "print('dy2 is',(dy2))\n",
        "print('rho is',(rho))\n",
        "print('radius of curvature at x=pi/2 is %0.3f'%(rho1));"
      ],
      "metadata": {
        "colab": {
          "base_uri": "https://localhost:8080/"
        },
        "id": "-CyQvRoJD7BM",
        "outputId": "b0432429-bead-440d-8f0d-661ffb95227c"
      },
      "execution_count": null,
      "outputs": [
        {
          "output_type": "stream",
          "name": "stdout",
          "text": [
            "dy1 is 4*cos(x) - 2*cos(2*x)\n",
            "dy2 is -4*sin(x) + 4*sin(2*x)\n",
            "rho is (4*(2*cos(x) - cos(2*x))**2 + 1)**1.5/(-4*sin(x) + 4*sin(2*x))\n",
            "radius of curvature at x=pi/2 is -2.795\n"
          ]
        }
      ]
    },
    {
      "cell_type": "markdown",
      "source": [
        "3) Find radius of curvature of y^2=[4a^2(2a-x)]/x at (2a,0)\n"
      ],
      "metadata": {
        "id": "G6OwQb92F1_4"
      }
    },
    {
      "cell_type": "code",
      "source": [
        "from sympy import*\n",
        "x,y,a=symbols('x y a')\n",
        "x=8*a**3/(y**2+4*a**2);\n",
        "dx1=diff(x,y)\n",
        "dx2=diff(dx1,y)\n",
        "rho=simplify(1+dx1**2)**1.5/dx2;\n",
        "rho1=rho.subs(x,2*a);\n",
        "rho2=rho1.subs(y,0);\n",
        "rho3=rho2.subs(a,2);\n",
        "print('dx1 is',(dx1))\n",
        "print('dx2 is',(dx2))\n",
        "print('rho is',(rho))\n",
        "print('radius of curvature at x=2a and y=0 is',simplify(rho3))"
      ],
      "metadata": {
        "colab": {
          "base_uri": "https://localhost:8080/"
        },
        "id": "YWXX70RLHCoN",
        "outputId": "c9ca9357-91e3-4f2b-e8ff-c11b32f9f6c9"
      },
      "execution_count": null,
      "outputs": [
        {
          "output_type": "stream",
          "name": "stdout",
          "text": [
            "dx1 is -16*a**3*y/(4*a**2 + y**2)**2\n",
            "dx2 is 64*a**3*y**2/(4*a**2 + y**2)**3 - 16*a**3/(4*a**2 + y**2)**2\n",
            "rho is (256*a**6*y**2/(4*a**2 + y**2)**4 + 1)**1.5/(64*a**3*y**2/(4*a**2 + y**2)**3 - 16*a**3/(4*a**2 + y**2)**2)\n",
            "radius of curvature at x=2a and y=0 is -2\n"
          ]
        }
      ]
    },
    {
      "cell_type": "markdown",
      "source": [
        "4) Find radius of curvature of y^2=12x at(3,4)"
      ],
      "metadata": {
        "id": "1yXam9INIvmH"
      }
    },
    {
      "cell_type": "code",
      "source": [
        "from sympy import*\n",
        "x,y=symbols('x y')\n",
        "y=sqrt(12*x);\n",
        "dy1=diff(y,x)\n",
        "dy2=diff(dy1,x)\n",
        "rho=simplify(1+dy1**2)**1.5/dy2;\n",
        "rho1=rho.subs(x,3);\n",
        "rho2=rho1.subs(y,4);\n",
        "print('dy1 is',(dy1))\n",
        "print('dy2 is',(dy2))\n",
        "print('rho is',(rho))\n",
        "print('radius oof curvature at x=3 and y=4 is',simplify(rho2))"
      ],
      "metadata": {
        "colab": {
          "base_uri": "https://localhost:8080/"
        },
        "id": "Y8VLVu4yKvat",
        "outputId": "c3ef1862-ac02-4d50-efb0-7b9db03d284b"
      },
      "execution_count": null,
      "outputs": [
        {
          "output_type": "stream",
          "name": "stdout",
          "text": [
            "dy1 is sqrt(3)/sqrt(x)\n",
            "dy2 is -sqrt(3)/(2*x**(3/2))\n",
            "rho is -2*sqrt(3)*x**(3/2)*((x + 3)/x)**1.5/3\n",
            "radius oof curvature at x=3 and y=4 is -16.9705627484771\n"
          ]
        }
      ]
    },
    {
      "cell_type": "markdown",
      "source": [
        "II PARMETRIC FORM:1)x=a[theta+sin(theta)] & y=b[1-cos(theta)] at theta=pi/2 &a=b=1"
      ],
      "metadata": {
        "id": "P6H_eLLkMJBw"
      }
    },
    {
      "cell_type": "code",
      "source": [
        "from sympy import*\n",
        "x,y,theta,a,b=symbols('x y theta a b')\n",
        "x=a*(theta+sin(theta));\n",
        "y=b*(1-cos(theta));\n",
        "x1=diff(x,theta)\n",
        "y1=diff(y,theta)\n",
        "x2=diff(x1,theta)\n",
        "y2=diff(y2,theta)\n",
        "rho=((x1**2+y1**2)**1.5)/(x1*y2-y1*x2);\n",
        "rho1=rho.subs(theta,(pi/2));\n",
        "rho2=rho1.subs(a,1)\n",
        "rho3=rho2.subs(b,1)\n",
        "print('x1=',(x1))\n",
        "print('x1=',(x2))\n",
        "print('y1=',(y1))\n",
        "print('y2=',(y2))\n",
        "print('rho=',(rho))\n",
        "print('radius of curvature at x=4 and y=4 is %0.3f'%(rho3));"
      ],
      "metadata": {
        "colab": {
          "base_uri": "https://localhost:8080/"
        },
        "id": "4sW4H6a_N3T6",
        "outputId": "5aa63786-064f-4874-da38-82ae8780368e"
      },
      "execution_count": null,
      "outputs": [
        {
          "output_type": "stream",
          "name": "stdout",
          "text": [
            "x1= a*(cos(theta) + 1)\n",
            "x1= -a*sin(theta)\n",
            "y1= b*sin(theta)\n",
            "y2= 0\n",
            "rho= (a**2*(cos(theta) + 1)**2 + b**2*sin(theta)**2)**1.5/(a*b*sin(theta)**2)\n",
            "radius of curvature at x=4 and y=4 is 2.828\n"
          ]
        }
      ]
    },
    {
      "cell_type": "markdown",
      "source": [
        "2)x=acos(theta) & y=asin(theta) at theta=pi/2&a=5"
      ],
      "metadata": {
        "id": "AmTGPxYVQjRr"
      }
    },
    {
      "cell_type": "code",
      "source": [
        "from sympy import*\n",
        "x,y,theta,a,b=symbols('x y theta a b')\n",
        "x=a*(cos(theta));\n",
        "y=a*(sin(theta));\n",
        "x1=diff(x,theta)\n",
        "y1=diff(y,theta)\n",
        "x2=diff(x1,theta)\n",
        "y2=diff(y2,theta)\n",
        "rho=((x1**2+y1**2)**1.5)/(x1*y2-y1*x2);\n",
        "rho1=rho.subs(theta,(pi/2));\n",
        "rho2=rho1.subs(a,5);\n",
        "print('x1=',(x1))\n",
        "print('x1=',(x2))\n",
        "print('y1=',(y1))\n",
        "print('y2=',(y2))\n",
        "print('rho=',(rho))\n",
        "print('radius of curvature  x=4 and y=4 is %0.3f'%(rho2));"
      ],
      "metadata": {
        "colab": {
          "base_uri": "https://localhost:8080/",
          "height": 384
        },
        "id": "jjnEF4sHQmvE",
        "outputId": "7aef7de7-91ff-4448-cea2-890742ca172f"
      },
      "execution_count": null,
      "outputs": [
        {
          "output_type": "stream",
          "name": "stdout",
          "text": [
            "x1= -a*sin(theta)\n",
            "x1= -a*cos(theta)\n",
            "y1= a*cos(theta)\n",
            "y2= 0\n",
            "rho= (a**2*sin(theta)**2 + a**2*cos(theta)**2)**1.5/(a**2*cos(theta)**2)\n"
          ]
        },
        {
          "output_type": "error",
          "ename": "TypeError",
          "evalue": "Cannot convert complex to float",
          "traceback": [
            "\u001b[0;31m---------------------------------------------------------------------------\u001b[0m",
            "\u001b[0;31mTypeError\u001b[0m                                 Traceback (most recent call last)",
            "\u001b[0;32m<ipython-input-20-23006277245c>\u001b[0m in \u001b[0;36m<cell line: 17>\u001b[0;34m()\u001b[0m\n\u001b[1;32m     15\u001b[0m \u001b[0mprint\u001b[0m\u001b[0;34m(\u001b[0m\u001b[0;34m'y2='\u001b[0m\u001b[0;34m,\u001b[0m\u001b[0;34m(\u001b[0m\u001b[0my2\u001b[0m\u001b[0;34m)\u001b[0m\u001b[0;34m)\u001b[0m\u001b[0;34m\u001b[0m\u001b[0;34m\u001b[0m\u001b[0m\n\u001b[1;32m     16\u001b[0m \u001b[0mprint\u001b[0m\u001b[0;34m(\u001b[0m\u001b[0;34m'rho='\u001b[0m\u001b[0;34m,\u001b[0m\u001b[0;34m(\u001b[0m\u001b[0mrho\u001b[0m\u001b[0;34m)\u001b[0m\u001b[0;34m)\u001b[0m\u001b[0;34m\u001b[0m\u001b[0;34m\u001b[0m\u001b[0m\n\u001b[0;32m---> 17\u001b[0;31m \u001b[0mprint\u001b[0m\u001b[0;34m(\u001b[0m\u001b[0;34m'radius of curvature  x=4 and y=4 is %0.3f'\u001b[0m\u001b[0;34m%\u001b[0m\u001b[0;34m(\u001b[0m\u001b[0mrho2\u001b[0m\u001b[0;34m)\u001b[0m\u001b[0;34m)\u001b[0m\u001b[0;34m;\u001b[0m\u001b[0;34m\u001b[0m\u001b[0;34m\u001b[0m\u001b[0m\n\u001b[0m",
            "\u001b[0;32m/usr/local/lib/python3.10/dist-packages/sympy/core/expr.py\u001b[0m in \u001b[0;36m__float__\u001b[0;34m(self)\u001b[0m\n\u001b[1;32m    337\u001b[0m             \u001b[0;32mreturn\u001b[0m \u001b[0mfloat\u001b[0m\u001b[0;34m(\u001b[0m\u001b[0mresult\u001b[0m\u001b[0;34m)\u001b[0m\u001b[0;34m\u001b[0m\u001b[0;34m\u001b[0m\u001b[0m\n\u001b[1;32m    338\u001b[0m         \u001b[0;32mif\u001b[0m \u001b[0mresult\u001b[0m\u001b[0;34m.\u001b[0m\u001b[0mis_number\u001b[0m \u001b[0;32mand\u001b[0m \u001b[0mresult\u001b[0m\u001b[0;34m.\u001b[0m\u001b[0mas_real_imag\u001b[0m\u001b[0;34m(\u001b[0m\u001b[0;34m)\u001b[0m\u001b[0;34m[\u001b[0m\u001b[0;36m1\u001b[0m\u001b[0;34m]\u001b[0m\u001b[0;34m:\u001b[0m\u001b[0;34m\u001b[0m\u001b[0;34m\u001b[0m\u001b[0m\n\u001b[0;32m--> 339\u001b[0;31m             \u001b[0;32mraise\u001b[0m \u001b[0mTypeError\u001b[0m\u001b[0;34m(\u001b[0m\u001b[0;34m\"Cannot convert complex to float\"\u001b[0m\u001b[0;34m)\u001b[0m\u001b[0;34m\u001b[0m\u001b[0;34m\u001b[0m\u001b[0m\n\u001b[0m\u001b[1;32m    340\u001b[0m         \u001b[0;32mraise\u001b[0m \u001b[0mTypeError\u001b[0m\u001b[0;34m(\u001b[0m\u001b[0;34m\"Cannot convert expression to float\"\u001b[0m\u001b[0;34m)\u001b[0m\u001b[0;34m\u001b[0m\u001b[0;34m\u001b[0m\u001b[0m\n\u001b[1;32m    341\u001b[0m \u001b[0;34m\u001b[0m\u001b[0m\n",
            "\u001b[0;31mTypeError\u001b[0m: Cannot convert complex to float"
          ]
        }
      ]
    },
    {
      "cell_type": "markdown",
      "source": [
        "III POLAR FORM: 1)r=4(1+cos(theta)) at theta=pi/2"
      ],
      "metadata": {
        "id": "uhSltnGNSxhO"
      }
    },
    {
      "cell_type": "code",
      "source": [
        "from sympy import*\n",
        "r,theta,a=symbols('r theta a')\n",
        "r=4*(1+cos(theta));\n",
        "r1=diff(r,theta)\n",
        "r2=diff(r1,theta)\n",
        "rho=simplify(1+r1**2)**1.5/(r**2+2*(r1)**2-r*r2);\n",
        "rho1=rho.subs(theta,(pi/2));\n",
        "print('r1=',(r1))\n",
        "print('r2=',(r2))\n",
        "print('rho=',(rho))\n",
        "print('radius of curvature is %0.3f'%(rho1));"
      ],
      "metadata": {
        "colab": {
          "base_uri": "https://localhost:8080/"
        },
        "id": "ANeYoKy0TDDF",
        "outputId": "a4461f05-5c7b-4887-fcb8-c0e07e4fdb9d"
      },
      "execution_count": null,
      "outputs": [
        {
          "output_type": "stream",
          "name": "stdout",
          "text": [
            "r1= -4*sin(theta)\n",
            "r2= -4*cos(theta)\n",
            "rho= (16*sin(theta)**2 + 1)**1.5/((4*cos(theta) + 4)**2 + 4*(4*cos(theta) + 4)*cos(theta) + 32*sin(theta)**2)\n",
            "radius of curvature is 1.460\n"
          ]
        }
      ]
    },
    {
      "cell_type": "markdown",
      "source": [
        "4)r^n=(a^ncos(theta))at theta=pi/2,n=1,a=1"
      ],
      "metadata": {
        "id": "0MpxHoLtUBlM"
      }
    },
    {
      "cell_type": "code",
      "source": [
        "from sympy import*\n",
        "r,theta,a=symbols('r theta a')\n",
        "r=(a**n*(cos(n*theta)))**1/n;\n",
        "r1=diff(r,theta)\n",
        "r2=diff(r1,theta)\n",
        "rho=(r**2+(r1)**2)**1.5/(r**2+2*(r1)**2-r*r2);\n",
        "rho1=rho.subs(theta,(pi/2));\n",
        "rho2=rho1.subs(a,1);\n",
        "rho3=rho2.subs(a,1);\n",
        "print('r1=',(r1))\n",
        "print('r2=',(r2))\n",
        "print('rho=',(rho))\n",
        "print('radius of curvature is %0.3f'%(rho3));"
      ],
      "metadata": {
        "colab": {
          "base_uri": "https://localhost:8080/",
          "height": 211
        },
        "id": "LlYa1B8-UZ-S",
        "outputId": "f4260a37-8065-4488-d8d7-a5dc17c66abf"
      },
      "execution_count": null,
      "outputs": [
        {
          "output_type": "error",
          "ename": "NameError",
          "evalue": "name 'n' is not defined",
          "traceback": [
            "\u001b[0;31m---------------------------------------------------------------------------\u001b[0m",
            "\u001b[0;31mNameError\u001b[0m                                 Traceback (most recent call last)",
            "\u001b[0;32m<ipython-input-23-d5553bbdace8>\u001b[0m in \u001b[0;36m<cell line: 3>\u001b[0;34m()\u001b[0m\n\u001b[1;32m      1\u001b[0m \u001b[0;32mfrom\u001b[0m \u001b[0msympy\u001b[0m \u001b[0;32mimport\u001b[0m\u001b[0;34m*\u001b[0m\u001b[0;34m\u001b[0m\u001b[0;34m\u001b[0m\u001b[0m\n\u001b[1;32m      2\u001b[0m \u001b[0mr\u001b[0m\u001b[0;34m,\u001b[0m\u001b[0mtheta\u001b[0m\u001b[0;34m,\u001b[0m\u001b[0ma\u001b[0m\u001b[0;34m=\u001b[0m\u001b[0msymbols\u001b[0m\u001b[0;34m(\u001b[0m\u001b[0;34m'r theta a'\u001b[0m\u001b[0;34m)\u001b[0m\u001b[0;34m\u001b[0m\u001b[0;34m\u001b[0m\u001b[0m\n\u001b[0;32m----> 3\u001b[0;31m \u001b[0mr\u001b[0m\u001b[0;34m=\u001b[0m\u001b[0;34m(\u001b[0m\u001b[0ma\u001b[0m\u001b[0;34m**\u001b[0m\u001b[0mn\u001b[0m\u001b[0;34m*\u001b[0m\u001b[0;34m(\u001b[0m\u001b[0mcos\u001b[0m\u001b[0;34m(\u001b[0m\u001b[0mn\u001b[0m\u001b[0;34m*\u001b[0m\u001b[0mtheta\u001b[0m\u001b[0;34m)\u001b[0m\u001b[0;34m)\u001b[0m\u001b[0;34m)\u001b[0m\u001b[0;34m**\u001b[0m\u001b[0;36m1\u001b[0m\u001b[0;34m/\u001b[0m\u001b[0mn\u001b[0m\u001b[0;34m;\u001b[0m\u001b[0;34m\u001b[0m\u001b[0;34m\u001b[0m\u001b[0m\n\u001b[0m\u001b[1;32m      4\u001b[0m \u001b[0mr1\u001b[0m\u001b[0;34m=\u001b[0m\u001b[0mdiff\u001b[0m\u001b[0;34m(\u001b[0m\u001b[0mr\u001b[0m\u001b[0;34m,\u001b[0m\u001b[0mtheta\u001b[0m\u001b[0;34m)\u001b[0m\u001b[0;34m\u001b[0m\u001b[0;34m\u001b[0m\u001b[0m\n\u001b[1;32m      5\u001b[0m \u001b[0mr2\u001b[0m\u001b[0;34m=\u001b[0m\u001b[0mdiff\u001b[0m\u001b[0;34m(\u001b[0m\u001b[0mr1\u001b[0m\u001b[0;34m,\u001b[0m\u001b[0mtheta\u001b[0m\u001b[0;34m)\u001b[0m\u001b[0;34m\u001b[0m\u001b[0;34m\u001b[0m\u001b[0m\n",
            "\u001b[0;31mNameError\u001b[0m: name 'n' is not defined"
          ]
        }
      ]
    }
  ]
}