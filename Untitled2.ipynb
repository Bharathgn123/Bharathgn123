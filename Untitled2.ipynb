{
  "nbformat": 4,
  "nbformat_minor": 0,
  "metadata": {
    "colab": {
      "provenance": [],
      "authorship_tag": "ABX9TyO2WQzO/fpEL7SgcMZ6jxID",
      "include_colab_link": true
    },
    "kernelspec": {
      "name": "python3",
      "display_name": "Python 3"
    },
    "language_info": {
      "name": "python"
    }
  },
  "cells": [
    {
      "cell_type": "markdown",
      "metadata": {
        "id": "view-in-github",
        "colab_type": "text"
      },
      "source": [
        "<a href=\"https://colab.research.google.com/github/Bharathgn123/Bharathgn123/blob/main/Untitled2.ipynb\" target=\"_parent\"><img src=\"https://colab.research.google.com/assets/colab-badge.svg\" alt=\"Open In Colab\"/></a>"
      ]
    },
    {
      "cell_type": "code",
      "execution_count": null,
      "metadata": {
        "colab": {
          "base_uri": "https://localhost:8080/"
        },
        "id": "mEIqHPbnK2X7",
        "outputId": "c7327c83-b291-4fb9-aca1-cd1a0a50ae54"
      },
      "outputs": [
        {
          "output_type": "stream",
          "name": "stdout",
          "text": [
            "3\n"
          ]
        }
      ],
      "source": [
        "bharathg=3\n",
        "print(bharathg)"
      ]
    },
    {
      "cell_type": "code",
      "source": [
        "BHARATH=123\n",
        "print(BHARATH)"
      ],
      "metadata": {
        "colab": {
          "base_uri": "https://localhost:8080/"
        },
        "id": "DoM599x3PdsP",
        "outputId": "db974e3e-1d61-43c8-bf22-e95a7c83142e"
      },
      "execution_count": null,
      "outputs": [
        {
          "output_type": "stream",
          "name": "stdout",
          "text": [
            "123\n"
          ]
        }
      ]
    },
    {
      "cell_type": "code",
      "source": [
        "CitCollegeGubbi=123\n",
        "print(CitCollegeGubbi)"
      ],
      "metadata": {
        "colab": {
          "base_uri": "https://localhost:8080/"
        },
        "id": "PlNTeUPLPwWu",
        "outputId": "e642969a-5625-46c8-92b8-f99b77e6ee3c"
      },
      "execution_count": null,
      "outputs": [
        {
          "output_type": "stream",
          "name": "stdout",
          "text": [
            "123\n"
          ]
        }
      ]
    },
    {
      "cell_type": "code",
      "source": [
        "asd=123\n",
        "print(asd)\n",
        "asd=asd+2\n",
        "print(asd)"
      ],
      "metadata": {
        "colab": {
          "base_uri": "https://localhost:8080/"
        },
        "id": "oMnbcI_WSQ8J",
        "outputId": "87112f82-34d8-4a93-f0d4-785c084d47ab"
      },
      "execution_count": null,
      "outputs": [
        {
          "output_type": "stream",
          "name": "stdout",
          "text": [
            "123\n",
            "125\n"
          ]
        }
      ]
    },
    {
      "cell_type": "code",
      "source": [
        "a=3\n",
        "type(a)"
      ],
      "metadata": {
        "colab": {
          "base_uri": "https://localhost:8080/"
        },
        "id": "gGXjM-DMUFZ_",
        "outputId": "51379a0c-b0e8-4043-f2ea-4a58697a5a44"
      },
      "execution_count": null,
      "outputs": [
        {
          "output_type": "execute_result",
          "data": {
            "text/plain": [
              "int"
            ]
          },
          "metadata": {},
          "execution_count": 17
        }
      ]
    },
    {
      "cell_type": "code",
      "source": [
        "b=2.2\n",
        "type(b)"
      ],
      "metadata": {
        "colab": {
          "base_uri": "https://localhost:8080/"
        },
        "id": "n3kTdxypUUwN",
        "outputId": "5d46e8b0-da02-4806-ec0f-20a06ceba261"
      },
      "execution_count": null,
      "outputs": [
        {
          "output_type": "execute_result",
          "data": {
            "text/plain": [
              "float"
            ]
          },
          "metadata": {},
          "execution_count": 21
        }
      ]
    },
    {
      "cell_type": "code",
      "source": [
        "c='bharath'\n",
        "type(c)"
      ],
      "metadata": {
        "colab": {
          "base_uri": "https://localhost:8080/"
        },
        "id": "tHJQ5Ze5UqO2",
        "outputId": "96903641-8b1e-47ad-c30c-14f2c4cab2cd"
      },
      "execution_count": null,
      "outputs": [
        {
          "output_type": "execute_result",
          "data": {
            "text/plain": [
              "str"
            ]
          },
          "metadata": {},
          "execution_count": 22
        }
      ]
    },
    {
      "cell_type": "code",
      "source": [
        "a=8.7\n",
        "int(a)\n"
      ],
      "metadata": {
        "colab": {
          "base_uri": "https://localhost:8080/"
        },
        "id": "WiGa60l9XBf7",
        "outputId": "8a6b8b51-38bb-4e2d-c785-f5f62eb34d5a"
      },
      "execution_count": 1,
      "outputs": [
        {
          "output_type": "execute_result",
          "data": {
            "text/plain": [
              "8"
            ]
          },
          "metadata": {},
          "execution_count": 1
        }
      ]
    },
    {
      "cell_type": "code",
      "source": [
        "b=5\n",
        "float(b)"
      ],
      "metadata": {
        "colab": {
          "base_uri": "https://localhost:8080/"
        },
        "id": "j08PkTBwXO8s",
        "outputId": "e4a281d1-4bd1-44a7-a234-e32904bd5bdb"
      },
      "execution_count": 2,
      "outputs": [
        {
          "output_type": "execute_result",
          "data": {
            "text/plain": [
              "5.0"
            ]
          },
          "metadata": {},
          "execution_count": 2
        }
      ]
    },
    {
      "cell_type": "code",
      "source": [
        "c=4\n",
        "str(c)"
      ],
      "metadata": {
        "colab": {
          "base_uri": "https://localhost:8080/",
          "height": 35
        },
        "id": "ymaNiSNlXVvR",
        "outputId": "e2851975-b5c2-4608-d113-9c96378ed93e"
      },
      "execution_count": 3,
      "outputs": [
        {
          "output_type": "execute_result",
          "data": {
            "text/plain": [
              "'4'"
            ],
            "application/vnd.google.colaboratory.intrinsic+json": {
              "type": "string"
            }
          },
          "metadata": {},
          "execution_count": 3
        }
      ]
    },
    {
      "cell_type": "code",
      "source": [
        "print('enter your name')\n",
        "name=input()\n",
        "print('My name is',name)"
      ],
      "metadata": {
        "colab": {
          "base_uri": "https://localhost:8080/"
        },
        "id": "2nKDkyY9ajex",
        "outputId": "33187f1e-728c-4043-fe5d-927cf827a2be"
      },
      "execution_count": 6,
      "outputs": [
        {
          "output_type": "stream",
          "name": "stdout",
          "text": [
            "enter your name\n",
            "bharath\n",
            "My name is bharath\n"
          ]
        }
      ]
    },
    {
      "cell_type": "code",
      "source": [
        "print('enter your percentage in pu')\n",
        "percentage=input()\n",
        "print('My percentage is',percentage)\n"
      ],
      "metadata": {
        "colab": {
          "base_uri": "https://localhost:8080/"
        },
        "id": "b-qwxr44b7wB",
        "outputId": "69bc2ae5-8d50-4206-9e46-a19024a3dce1"
      },
      "execution_count": 7,
      "outputs": [
        {
          "output_type": "stream",
          "name": "stdout",
          "text": [
            "enter your percentage in pu\n",
            "88.33\n",
            "My percentage is 88.33\n"
          ]
        }
      ]
    },
    {
      "cell_type": "code",
      "source": [
        "print('enter your town')\n",
        "town=input()\n",
        "print('our town is',town)\n"
      ],
      "metadata": {
        "colab": {
          "base_uri": "https://localhost:8080/"
        },
        "id": "C6MZajildoOW",
        "outputId": "afea3923-2425-49db-814f-20c42f10695b"
      },
      "execution_count": 8,
      "outputs": [
        {
          "output_type": "stream",
          "name": "stdout",
          "text": [
            "enter your town\n",
            "tumkuru\n",
            "our town is tumkuru\n"
          ]
        }
      ]
    },
    {
      "cell_type": "code",
      "source": [
        "a='\n",
        "len(a)"
      ],
      "metadata": {
        "colab": {
          "base_uri": "https://localhost:8080/"
        },
        "id": "exzlN616eltc",
        "outputId": "303b2eb2-e508-4e53-d6ea-1ecf6410cb29"
      },
      "execution_count": 9,
      "outputs": [
        {
          "output_type": "execute_result",
          "data": {
            "text/plain": [
              "11"
            ]
          },
          "metadata": {},
          "execution_count": 9
        }
      ]
    },
    {
      "cell_type": "code",
      "source": [
        "print('enter your college name')\n",
        "college_name =input()\n",
        "print('the number of characters in college name is',len(college_name))\n"
      ],
      "metadata": {
        "colab": {
          "base_uri": "https://localhost:8080/"
        },
        "id": "EYtbn1OEftP6",
        "outputId": "f44feba6-bb65-4684-a707-fcaad118328c"
      },
      "execution_count": 14,
      "outputs": [
        {
          "output_type": "stream",
          "name": "stdout",
          "text": [
            "enter your college name\n",
            "channabasaweshwara institute of technology\n",
            "the number of characters in college name is 42\n"
          ]
        }
      ]
    }
  ]
}